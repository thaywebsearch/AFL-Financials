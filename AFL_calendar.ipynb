{
    "cells": [
        {
            "cell_type": "code",
            "execution_count": 1,
            "source": [
                "import yfinance as yf\r\n",
                "\r\n",
                "afl = yf.Ticker('afl')\r\n",
                "\r\n",
                "print(afl.calendar)"
            ],
            "outputs": [
                {
                    "output_type": "stream",
                    "name": "stdout",
                    "text": [
                        "                                Value\n",
                        "Earnings Date     2021-10-27 20:00:00\n",
                        "Earnings Average                 1.33\n",
                        "Earnings Low                     1.23\n",
                        "Earnings High                    1.59\n",
                        "Revenue Average            5564000000\n",
                        "Revenue Low                5329000000\n",
                        "Revenue High               5409000000\n"
                    ]
                }
            ],
            "metadata": {}
        },
        {
            "cell_type": "code",
            "execution_count": 2,
            "source": [
                "import yfinance as yf\r\n",
                "\r\n",
                "xom = yf.Ticker('xom')\r\n",
                "\r\n",
                "print(xom.cashflow)\r\n"
            ],
            "outputs": [
                {
                    "output_type": "stream",
                    "name": "stdout",
                    "text": [
                        "                                             2020-12-31    2019-12-31  \\\n",
                        "Investments                               -4.857000e+09 -3.905000e+09   \n",
                        "Change To Liabilities                     -7.142000e+09  3.725000e+09   \n",
                        "Total Cashflows From Investing Activities -1.845900e+10 -2.308400e+10   \n",
                        "Net Borrowings                             2.014100e+10  8.662000e+09   \n",
                        "Total Cash From Financing Activities       5.285000e+09 -6.618000e+09   \n",
                        "Change To Operating Activities             4.200000e+08 -2.340000e+08   \n",
                        "Net Income                                -2.244000e+10  1.434000e+10   \n",
                        "Change In Cash                             1.275000e+09  4.700000e+07   \n",
                        "Repurchase Of Stock                       -4.050000e+08 -5.940000e+08   \n",
                        "Effect Of Exchange Rate                   -2.190000e+08  3.300000e+07   \n",
                        "Total Cash From Operating Activities       1.466800e+10  2.971600e+10   \n",
                        "Depreciation                               1.949800e+10  1.885200e+10   \n",
                        "Other Cashflows From Investing Activities  2.681000e+09  1.490000e+09   \n",
                        "Dividends Paid                            -1.486500e+10 -1.465200e+10   \n",
                        "Change To Inventory                       -3.150000e+08  7.200000e+07   \n",
                        "Change To Account Receivables              5.384000e+09 -2.640000e+09   \n",
                        "Other Cashflows From Financing Activities  4.140000e+08 -3.400000e+07   \n",
                        "Change To Netincome                        1.926300e+10 -4.399000e+09   \n",
                        "Capital Expenditures                      -1.728200e+10 -2.436100e+10   \n",
                        "\n",
                        "                                             2018-12-31    2017-12-31  \n",
                        "Investments                               -1.981000e+09 -5.507000e+09  \n",
                        "Change To Liabilities                      2.321000e+09  5.104000e+09  \n",
                        "Total Cashflows From Investing Activities -1.644600e+10 -1.573000e+10  \n",
                        "Net Borrowings                            -4.925000e+09 -1.048000e+09  \n",
                        "Total Cash From Financing Activities      -1.944600e+10 -1.513000e+10  \n",
                        "Change To Operating Activities            -2.500000e+07 -1.170000e+08  \n",
                        "Net Income                                 2.084000e+10  1.971000e+10  \n",
                        "Change In Cash                            -1.350000e+08 -4.800000e+08  \n",
                        "Repurchase Of Stock                       -6.260000e+08 -7.470000e+08  \n",
                        "Effect Of Exchange Rate                   -2.570000e+08  3.140000e+08  \n",
                        "Total Cash From Operating Activities       3.601400e+10  3.006600e+10  \n",
                        "Depreciation                               1.804500e+10  1.789300e+10  \n",
                        "Other Cashflows From Investing Activities  9.860000e+08  2.076000e+09  \n",
                        "Dividends Paid                            -1.379800e+10 -1.300100e+10  \n",
                        "Change To Inventory                       -3.107000e+09 -1.682000e+09  \n",
                        "Change To Account Receivables             -5.450000e+08 -3.954000e+09  \n",
                        "Other Cashflows From Financing Activities -9.700000e+07 -3.340000e+08  \n",
                        "Change To Netincome                       -1.515000e+09 -6.888000e+09  \n",
                        "Capital Expenditures                      -1.957400e+10 -1.540200e+10  \n"
                    ]
                }
            ],
            "metadata": {}
        }
    ],
    "metadata": {
        "orig_nbformat": 4,
        "language_info": {
            "name": "python",
            "version": "3.9.1",
            "mimetype": "text/x-python",
            "codemirror_mode": {
                "name": "ipython",
                "version": 3
            },
            "pygments_lexer": "ipython3",
            "nbconvert_exporter": "python",
            "file_extension": ".py"
        },
        "kernelspec": {
            "name": "python3",
            "display_name": "Python 3.9.1 64-bit"
        },
        "interpreter": {
            "hash": "3f3e64df641f34e105f69b04d31a9fa120efec5259c1d25336167da3fc762860"
        }
    },
    "nbformat": 4,
    "nbformat_minor": 2
}