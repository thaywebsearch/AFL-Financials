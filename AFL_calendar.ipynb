{
    "cells": [
        {
            "cell_type": "code",
            "execution_count": 1,
            "source": [
                "import yfinance as yf\r\n",
                "\r\n",
                "afl = yf.Ticker('afl')\r\n",
                "\r\n",
                "print(afl.calendar)"
            ],
            "outputs": [
                {
                    "output_type": "stream",
                    "name": "stdout",
                    "text": [
                        "                                Value\n",
                        "Earnings Date     2021-10-27 20:00:00\n",
                        "Earnings Average                 1.33\n",
                        "Earnings Low                     1.23\n",
                        "Earnings High                    1.59\n",
                        "Revenue Average            5564000000\n",
                        "Revenue Low                5329000000\n",
                        "Revenue High               5409000000\n"
                    ]
                }
            ],
            "metadata": {}
        }
    ],
    "metadata": {
        "orig_nbformat": 4,
        "language_info": {
            "name": "python",
            "version": "3.9.1",
            "mimetype": "text/x-python",
            "codemirror_mode": {
                "name": "ipython",
                "version": 3
            },
            "pygments_lexer": "ipython3",
            "nbconvert_exporter": "python",
            "file_extension": ".py"
        },
        "kernelspec": {
            "name": "python3",
            "display_name": "Python 3.9.1 64-bit"
        },
        "interpreter": {
            "hash": "3f3e64df641f34e105f69b04d31a9fa120efec5259c1d25336167da3fc762860"
        }
    },
    "nbformat": 4,
    "nbformat_minor": 2
}