{
    "cells": [
        {
            "cell_type": "code",
            "execution_count": 1,
            "source": [
                "import yfinance as yf\r\n",
                "\r\n",
                "afl = yf.Ticker('afl')\r\n",
                "\r\n",
                "print(afl.calendar)"
            ],
            "outputs": [
                {
                    "output_type": "stream",
                    "name": "stdout",
                    "text": [
                        "                                Value\n",
                        "Earnings Date     2021-10-27 20:00:00\n",
                        "Earnings Average                 1.33\n",
                        "Earnings Low                     1.23\n",
                        "Earnings High                    1.59\n",
                        "Revenue Average            5564000000\n",
                        "Revenue Low                5329000000\n",
                        "Revenue High               5409000000\n"
                    ]
                }
            ],
            "metadata": {}
        },
        {
            "cell_type": "code",
            "execution_count": 2,
            "source": [
                "import yfinance as yf\r\n",
                "\r\n",
                "xom = yf.Ticker('xom')\r\n",
                "\r\n",
                "print(xom.cashflow)\r\n"
            ],
            "outputs": [
                {
                    "output_type": "stream",
                    "name": "stdout",
                    "text": [
                        "                                             2020-12-31    2019-12-31  \\\n",
                        "Investments                               -4.857000e+09 -3.905000e+09   \n",
                        "Change To Liabilities                     -7.142000e+09  3.725000e+09   \n",
                        "Total Cashflows From Investing Activities -1.845900e+10 -2.308400e+10   \n",
                        "Net Borrowings                             2.014100e+10  8.662000e+09   \n",
                        "Total Cash From Financing Activities       5.285000e+09 -6.618000e+09   \n",
                        "Change To Operating Activities             4.200000e+08 -2.340000e+08   \n",
                        "Net Income                                -2.244000e+10  1.434000e+10   \n",
                        "Change In Cash                             1.275000e+09  4.700000e+07   \n",
                        "Repurchase Of Stock                       -4.050000e+08 -5.940000e+08   \n",
                        "Effect Of Exchange Rate                   -2.190000e+08  3.300000e+07   \n",
                        "Total Cash From Operating Activities       1.466800e+10  2.971600e+10   \n",
                        "Depreciation                               1.949800e+10  1.885200e+10   \n",
                        "Other Cashflows From Investing Activities  2.681000e+09  1.490000e+09   \n",
                        "Dividends Paid                            -1.486500e+10 -1.465200e+10   \n",
                        "Change To Inventory                       -3.150000e+08  7.200000e+07   \n",
                        "Change To Account Receivables              5.384000e+09 -2.640000e+09   \n",
                        "Other Cashflows From Financing Activities  4.140000e+08 -3.400000e+07   \n",
                        "Change To Netincome                        1.926300e+10 -4.399000e+09   \n",
                        "Capital Expenditures                      -1.728200e+10 -2.436100e+10   \n",
                        "\n",
                        "                                             2018-12-31    2017-12-31  \n",
                        "Investments                               -1.981000e+09 -5.507000e+09  \n",
                        "Change To Liabilities                      2.321000e+09  5.104000e+09  \n",
                        "Total Cashflows From Investing Activities -1.644600e+10 -1.573000e+10  \n",
                        "Net Borrowings                            -4.925000e+09 -1.048000e+09  \n",
                        "Total Cash From Financing Activities      -1.944600e+10 -1.513000e+10  \n",
                        "Change To Operating Activities            -2.500000e+07 -1.170000e+08  \n",
                        "Net Income                                 2.084000e+10  1.971000e+10  \n",
                        "Change In Cash                            -1.350000e+08 -4.800000e+08  \n",
                        "Repurchase Of Stock                       -6.260000e+08 -7.470000e+08  \n",
                        "Effect Of Exchange Rate                   -2.570000e+08  3.140000e+08  \n",
                        "Total Cash From Operating Activities       3.601400e+10  3.006600e+10  \n",
                        "Depreciation                               1.804500e+10  1.789300e+10  \n",
                        "Other Cashflows From Investing Activities  9.860000e+08  2.076000e+09  \n",
                        "Dividends Paid                            -1.379800e+10 -1.300100e+10  \n",
                        "Change To Inventory                       -3.107000e+09 -1.682000e+09  \n",
                        "Change To Account Receivables             -5.450000e+08 -3.954000e+09  \n",
                        "Other Cashflows From Financing Activities -9.700000e+07 -3.340000e+08  \n",
                        "Change To Netincome                       -1.515000e+09 -6.888000e+09  \n",
                        "Capital Expenditures                      -1.957400e+10 -1.540200e+10  \n"
                    ]
                }
            ],
            "metadata": {}
        },
        {
            "cell_type": "code",
            "execution_count": 3,
            "source": [
                "import yfinance as yf\r\n",
                "\r\n",
                "xom = yf.Ticker('xom')\r\n",
                "\r\n",
                "print(xom.get_institutional_holders)"
            ],
            "outputs": [
                {
                    "output_type": "stream",
                    "name": "stdout",
                    "text": [
                        "<bound method TickerBase.get_institutional_holders of yfinance.Ticker object <XOM>>\n"
                    ]
                }
            ],
            "metadata": {}
        },
        {
            "cell_type": "code",
            "execution_count": 4,
            "source": [
                "import yfinance as yf\r\n",
                "\r\n",
                "xom = yf.Ticker('xom')\r\n",
                "\r\n",
                "print(xom.info)"
            ],
            "outputs": [
                {
                    "output_type": "stream",
                    "name": "stdout",
                    "text": [
                        "{'zip': '75039-2298', 'sector': 'Energy', 'fullTimeEmployees': 72000, 'longBusinessSummary': 'Exxon Mobil Corporation explores for and produces crude oil and natural gas in the United States and internationally. It operates through Upstream, Downstream, and Chemical segments. The company is also involved in the manufacture, trade, transport, and sale of crude oil, natural gas, petroleum products, petrochemicals, and other specialty products; and manufactures and sells petrochemicals, including olefins, polyolefins, aromatics, and various other petrochemicals. As of December 31, 2020, it had approximately 22,239 net operated wells with proved reserves. The company was founded in 1870 and is based in Irving, Texas.', 'city': 'Irving', 'phone': '972-940-6000', 'state': 'TX', 'country': 'United States', 'companyOfficers': [], 'website': 'http://corporate.exxonmobil.com', 'maxAge': 1, 'address1': '5959 Las Colinas Boulevard', 'fax': '972-940-6143', 'industry': 'Oil & Gas Integrated', 'ebitdaMargins': 0.113249995, 'profitMargins': -0.061750002, 'grossMargins': 0.31561002, 'operatingCashflow': 27307999232, 'revenueGrowth': 1.04, 'operatingMargins': 0.02937, 'ebitda': 24448999424, 'targetLowPrice': 40, 'recommendationKey': 'hold', 'grossProfits': 57157000000, 'freeCashflow': 13676125184, 'targetMedianPrice': 66, 'currentPrice': 52.73, 'earningsGrowth': None, 'currentRatio': 0.849, 'returnOnAssets': 0.01134, 'numberOfAnalystOpinions': 27, 'targetMeanPrice': 66.28, 'debtToEquity': 36.611, 'returnOnEquity': -0.07788, 'targetHighPrice': 90, 'totalCash': 3464999936, 'totalDebt': 60612001792, 'totalRevenue': 215878991872, 'totalCashPerShare': 0.818, 'financialCurrency': 'USD', 'revenuePerShare': 50.522, 'quickRatio': 0.514, 'recommendationMean': 2.7, 'exchange': 'NYQ', 'shortName': 'Exxon Mobil Corporation', 'longName': 'Exxon Mobil Corporation', 'exchangeTimezoneName': 'America/New_York', 'exchangeTimezoneShortName': 'EDT', 'isEsgPopulated': False, 'gmtOffSetMilliseconds': '-14400000', 'quoteType': 'EQUITY', 'symbol': 'XOM', 'messageBoardId': 'finmb_406338', 'market': 'us_market', 'annualHoldingsTurnover': None, 'enterpriseToRevenue': 1.364, 'beta3Year': None, 'enterpriseToEbitda': 12.041, '52WeekChange': 0.31631172, 'morningStarRiskRating': None, 'forwardEps': 4.86, 'revenueQuarterlyGrowth': None, 'sharesOutstanding': 4233560064, 'fundInceptionDate': None, 'annualReportExpenseRatio': None, 'totalAssets': None, 'bookValue': 37.456, 'sharesShort': 33224876, 'sharesPercentSharesOut': 0.0078, 'fundFamily': None, 'lastFiscalYearEnd': 1609372800, 'heldPercentInstitutions': 0.53535, 'netIncomeToCommon': -13329999872, 'trailingEps': -3.12, 'lastDividendValue': None, 'SandP52WeekChange': 0.29973626, 'priceToBook': 1.407785, 'heldPercentInsiders': 0.00117, 'nextFiscalYearEnd': 1672444800, 'yield': None, 'mostRecentQuarter': 1625011200, 'shortRatio': 1.61, 'sharesShortPreviousMonthDate': 1625011200, 'floatShares': 4222428647, 'beta': 1.4298, 'enterpriseValue': 294395478016, 'priceHint': 2, 'threeYearAverageReturn': None, 'lastSplitDate': None, 'lastSplitFactor': None, 'legalType': None, 'lastDividendDate': None, 'morningStarOverallRating': None, 'earningsQuarterlyGrowth': None, 'priceToSalesTrailing12Months': 1.0340775, 'dateShortInterest': 1627603200, 'pegRatio': 3.45, 'ytdReturn': None, 'forwardPE': 10.849793, 'lastCapGain': None, 'shortPercentOfFloat': 0.007900001, 'sharesShortPriorMonth': 34761759, 'impliedSharesOutstanding': None, 'category': None, 'fiveYearAverageReturn': None, 'previousClose': 54.39, 'regularMarketOpen': 53.47, 'twoHundredDayAverage': 57.97367, 'trailingAnnualDividendYield': 0.06398235, 'payoutRatio': None, 'volume24Hr': None, 'regularMarketDayHigh': 53.705, 'navPrice': None, 'averageDailyVolume10Day': 18351125, 'regularMarketPreviousClose': 54.39, 'fiftyDayAverage': 58.462284, 'trailingAnnualDividendRate': 3.48, 'open': 53.47, 'toCurrency': None, 'averageVolume10days': 18351125, 'expireDate': None, 'algorithm': None, 'dividendRate': 3.48, 'exDividendDate': 1628726400, 'circulatingSupply': None, 'startDate': None, 'regularMarketDayLow': 52.1, 'currency': 'USD', 'regularMarketVolume': 30197456, 'lastMarket': None, 'maxSupply': None, 'openInterest': None, 'marketCap': 223235620864, 'volumeAllCurrencies': None, 'strikePrice': None, 'averageVolume': 21688434, 'dayLow': 52.1, 'ask': 52.64, 'askSize': 1000, 'volume': 30197456, 'fiftyTwoWeekHigh': 64.93, 'fromCurrency': None, 'fiveYearAvgDividendYield': 5.13, 'fiftyTwoWeekLow': 31.11, 'bid': 52.67, 'tradeable': False, 'dividendYield': 0.064, 'bidSize': 1000, 'dayHigh': 53.705, 'regularMarketPrice': 52.73, 'logo_url': 'https://logo.clearbit.com/corporate.exxonmobil.com'}\n"
                    ]
                }
            ],
            "metadata": {}
        }
    ],
    "metadata": {
        "orig_nbformat": 4,
        "language_info": {
            "name": "python",
            "version": "3.9.1",
            "mimetype": "text/x-python",
            "codemirror_mode": {
                "name": "ipython",
                "version": 3
            },
            "pygments_lexer": "ipython3",
            "nbconvert_exporter": "python",
            "file_extension": ".py"
        },
        "kernelspec": {
            "name": "python3",
            "display_name": "Python 3.9.1 64-bit"
        },
        "interpreter": {
            "hash": "3f3e64df641f34e105f69b04d31a9fa120efec5259c1d25336167da3fc762860"
        }
    },
    "nbformat": 4,
    "nbformat_minor": 2
}