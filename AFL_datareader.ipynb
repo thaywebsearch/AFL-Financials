{
    "cells": [
        {
            "cell_type": "code",
            "execution_count": 1,
            "metadata": {},
            "outputs": [
                {
                    "name": "stdout",
                    "output_type": "stream",
                    "text": [
                        "[*********************100%***********************]  1 of 1 completed\n"
                    ]
                }
            ],
            "source": [
                "from pandas_datareader import data as pdr\n",
                "\n",
                "import yfinance as yf\n",
                "yf.pdr_override()\n",
                "data = pdr.get_data_yahoo(\"BAC\", start=\"2020-01-01\", end=\"2020-12-31\")"
            ]
        },
        {
            "cell_type": "code",
            "execution_count": 2,
            "metadata": {},
            "outputs": [
                {
                    "name": "stdout",
                    "output_type": "stream",
                    "text": [
                        "[*********************100%***********************]  1 of 1 completed\n"
                    ]
                }
            ],
            "source": [
                "from pandas_datareader import data as pdr\n",
                "\n",
                "import yfinance as yf\n",
                "yf.pdr_override()\n",
                "data = pdr.get_data_yahoo(\"AFL\", start=\"2020-01-01\", end=\"2020-12-31\")"
            ]
        }
    ],
    "metadata": {
        "interpreter": {
            "hash": "3f3e64df641f34e105f69b04d31a9fa120efec5259c1d25336167da3fc762860"
        },
        "kernelspec": {
            "display_name": "Python 3.9.1 64-bit",
            "name": "python3"
        },
        "language_info": {
            "codemirror_mode": {
                "name": "ipython",
                "version": 3
            },
            "file_extension": ".py",
            "mimetype": "text/x-python",
            "name": "python",
            "nbconvert_exporter": "python",
            "pygments_lexer": "ipython3",
            "version": "3.10.4"
        },
        "orig_nbformat": 4
    },
    "nbformat": 4,
    "nbformat_minor": 2
}
