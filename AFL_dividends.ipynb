{
    "cells": [
        {
            "cell_type": "code",
            "execution_count": null,
            "source": [
                "import yfinance as yf\r\n",
                "\r\n",
                "afl = yf.Ticker('afl')\r\n",
                "\r\n",
                "print(afl.dividends)"
            ],
            "outputs": [],
            "metadata": {}
        }
    ],
    "metadata": {
        "orig_nbformat": 4,
        "language_info": {
            "name": "python"
        }
    },
    "nbformat": 4,
    "nbformat_minor": 2
}