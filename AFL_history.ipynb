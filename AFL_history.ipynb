{
    "cells": [
        {
            "cell_type": "code",
            "execution_count": 5,
            "source": [
                "import yfinance as yf\r\n",
                "\r\n",
                "afl = yf.Ticker('afl')\r\n",
                "\r\n",
                "hist = afl.history(period=\"max\")\r\n",
                "\r\n",
                "print(afl.history)"
            ],
            "outputs": [
                {
                    "output_type": "stream",
                    "name": "stdout",
                    "text": [
                        "<bound method TickerBase.history of yfinance.Ticker object <AFL>>\n"
                    ]
                }
            ],
            "metadata": {}
        },
        {
            "cell_type": "code",
            "execution_count": 7,
            "source": [
                "import yfinance as yf\r\n",
                "\r\n",
                "afl = yf.Ticker('afl')\r\n",
                "\r\n",
                "print(afl.balance_sheet)"
            ],
            "outputs": [
                {
                    "output_type": "stream",
                    "name": "stdout",
                    "text": [
                        "                             2020-12-31    2019-12-31    2018-12-31  \\\n",
                        "Intangible Assets          1.044100e+10  1.012800e+10  9.875000e+09   \n",
                        "Capital Surplus            2.410000e+09  2.313000e+09  2.177000e+09   \n",
                        "Total Liab                 1.315270e+11  1.238090e+11  1.169440e+11   \n",
                        "Total Stockholder Equity   3.355900e+10  2.895900e+10  2.346200e+10   \n",
                        "Other Current Liab         8.955000e+09  1.019900e+10  9.496000e+09   \n",
                        "Total Assets               1.650860e+11  1.527680e+11  1.404060e+11   \n",
                        "Common Stock               1.350000e+08  1.350000e+08  1.350000e+08   \n",
                        "Other Current Assets       2.363000e+09  2.221000e+09  2.128000e+09   \n",
                        "Retained Earnings          3.798400e+10  3.429100e+10  3.178800e+10   \n",
                        "Other Liab                 1.103660e+11  1.005060e+11  9.603300e+10   \n",
                        "Treasury Stock            -6.970000e+09 -7.780000e+09 -1.063800e+10   \n",
                        "Other Assets               1.194600e+10  1.073500e+10  8.014000e+09   \n",
                        "Cash                       5.141000e+09  4.896000e+09  4.337000e+09   \n",
                        "Total Current Liabilities  1.331800e+10  1.708200e+10  1.513300e+10   \n",
                        "Other Stockholder Equity   8.934000e+09  6.615000e+09  2.151000e+09   \n",
                        "Property Plant Equipment   6.010000e+08  5.810000e+08  4.430000e+08   \n",
                        "Total Current Assets       9.439000e+09  8.576000e+09  7.471000e+09   \n",
                        "Long Term Investments      1.326590e+11  1.227480e+11  1.146030e+11   \n",
                        "Net Tangible Assets        3.355900e+10  2.895900e+10  2.346200e+10   \n",
                        "Short Term Investments     1.139000e+09  6.280000e+08  1.520000e+08   \n",
                        "Net Receivables            7.960000e+08  8.280000e+08  8.510000e+08   \n",
                        "Long Term Debt             7.745000e+09  6.060000e+09  5.765000e+09   \n",
                        "Accounts Payable           3.343000e+09  4.659000e+09  4.584000e+09   \n",
                        "Short Long Term Debt                NaN  3.480000e+08  1.000000e+06   \n",
                        "\n",
                        "                             2017-12-31  \n",
                        "Intangible Assets          9.505000e+09  \n",
                        "Capital Surplus            2.052000e+09  \n",
                        "Total Liab                 1.126190e+11  \n",
                        "Total Stockholder Equity   2.459800e+10  \n",
                        "Other Current Liab         1.117800e+10  \n",
                        "Total Assets               1.372170e+11  \n",
                        "Common Stock               1.350000e+08  \n",
                        "Other Current Assets       2.008000e+09  \n",
                        "Retained Earnings          2.989500e+10  \n",
                        "Other Liab                 9.115400e+10  \n",
                        "Treasury Stock            -7.484000e+09  \n",
                        "Other Assets               3.996000e+09  \n",
                        "Cash                       3.491000e+09  \n",
                        "Total Current Liabilities  1.617600e+10  \n",
                        "Other Stockholder Equity   4.028000e+09  \n",
                        "Property Plant Equipment   4.340000e+08  \n",
                        "Total Current Assets       6.383000e+09  \n",
                        "Long Term Investments      1.168990e+11  \n",
                        "Net Tangible Assets        2.459800e+10  \n",
                        "Short Term Investments     5.700000e+07  \n",
                        "Net Receivables            8.270000e+08  \n",
                        "Long Term Debt             5.289000e+09  \n",
                        "Accounts Payable           4.392000e+09  \n",
                        "Short Long Term Debt                NaN  \n"
                    ]
                }
            ],
            "metadata": {}
        },
        {
            "cell_type": "code",
            "execution_count": null,
            "source": [
                "import yfinance as yf\r\n",
                "\r\n",
                "afl = yf.Ticker('afl')\r\n",
                "\r\n",
                "print(afl.earnings)"
            ],
            "outputs": [],
            "metadata": {}
        },
        {
            "cell_type": "code",
            "execution_count": 8,
            "source": [
                "import yfinance as yf\r\n",
                "\r\n",
                "afl = yf.Ticker('afl')\r\n",
                "\r\n",
                "print(afl.dividends)"
            ],
            "outputs": [
                {
                    "output_type": "stream",
                    "name": "stdout",
                    "text": [
                        "Date\n",
                        "1984-08-09    0.002273\n",
                        "1984-10-22    0.002667\n",
                        "1985-02-08    0.002667\n",
                        "1985-05-09    0.002000\n",
                        "1985-08-09    0.003000\n",
                        "                ...   \n",
                        "2020-05-19    0.280000\n",
                        "2020-08-18    0.280000\n",
                        "2020-11-17    0.280000\n",
                        "2021-02-16    0.330000\n",
                        "2021-05-18    0.330000\n",
                        "Name: Dividends, Length: 148, dtype: float64\n"
                    ]
                }
            ],
            "metadata": {}
        }
    ],
    "metadata": {
        "orig_nbformat": 4,
        "language_info": {
            "name": "python",
            "version": "3.9.1",
            "mimetype": "text/x-python",
            "codemirror_mode": {
                "name": "ipython",
                "version": 3
            },
            "pygments_lexer": "ipython3",
            "nbconvert_exporter": "python",
            "file_extension": ".py"
        },
        "kernelspec": {
            "name": "python3",
            "display_name": "Python 3.9.1 64-bit"
        },
        "interpreter": {
            "hash": "3f3e64df641f34e105f69b04d31a9fa120efec5259c1d25336167da3fc762860"
        }
    },
    "nbformat": 4,
    "nbformat_minor": 2
}