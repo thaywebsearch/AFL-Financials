{
    "cells": [
        {
            "cell_type": "code",
            "execution_count": null,
            "source": [
                "import bs4\r\n",
                "import requests\r\n",
                "from bs4 import BeautifulSoup\r\n",
                "\r\n",
                "url = requests.get('https://finance.yahoo.com/quote/AFL?p=AFL')\r\n",
                "\r\n",
                "soup = bs4.BeautifulSoup(url.text, features=\"html.parser\")\r\n",
                "\r\n",
                "price = soup.find_all(\"div\", {'class': 'My(6px) Pos(r) smartphone_Mt(6px)'})[0].find('span').text\r\n",
                "\r\n",
                "print(price)"
            ],
            "outputs": [],
            "metadata": {}
        }
    ],
    "metadata": {
        "orig_nbformat": 4,
        "language_info": {
            "name": "python"
        }
    },
    "nbformat": 4,
    "nbformat_minor": 2
}