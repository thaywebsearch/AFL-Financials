{
 "cells": [
  {
   "cell_type": "code",
   "execution_count": 1,
   "metadata": {},
   "outputs": [
    {
     "name": "stdout",
     "output_type": "stream",
     "text": [
      "Date\n",
      "1998-10-28    0.1125\n",
      "1999-01-27    0.1125\n",
      "1999-04-28    0.1125\n",
      "1999-07-28    0.1125\n",
      "1999-10-27    0.1125\n",
      "               ...  \n",
      "2021-10-28    0.4500\n",
      "2022-01-28    0.4650\n",
      "2022-04-28    0.4650\n",
      "2022-07-28    0.4750\n",
      "2022-10-28    0.4750\n",
      "Name: Dividends, Length: 97, dtype: float64\n"
     ]
    }
   ],
   "source": [
    "import yfinance as yf\n",
    "\n",
    "epd = yf.Ticker('epd')\n",
    "\n",
    "print(epd.dividends)"
   ]
  }
 ],
 "metadata": {
  "kernelspec": {
   "display_name": "Python 3",
   "language": "python",
   "name": "python3"
  },
  "language_info": {
   "codemirror_mode": {
    "name": "ipython",
    "version": 3
   },
   "file_extension": ".py",
   "mimetype": "text/x-python",
   "name": "python",
   "nbconvert_exporter": "python",
   "pygments_lexer": "ipython3",
   "version": "3.10.4 (tags/v3.10.4:9d38120, Mar 23 2022, 23:13:41) [MSC v.1929 64 bit (AMD64)]"
  },
  "orig_nbformat": 4,
  "vscode": {
   "interpreter": {
    "hash": "26de051ba29f2982a8de78e945f0abaf191376122a1563185a90213a26c5da77"
   }
  }
 },
 "nbformat": 4,
 "nbformat_minor": 2
}
