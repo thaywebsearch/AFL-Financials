{
 "cells": [
  {
   "cell_type": "code",
   "execution_count": null,
   "source": [
    "import yfinance as yf\r\n",
    "import pandas as pd\r\n",
    "\r\n",
    "yf.download('PRU', period='10y')\r\n",
    "\r\n",
    "pru = yf.download('PRU', period='10y')\r\n",
    "\r\n",
    "pru.head()\r\n",
    "\r\n",
    "pru['Adj Close'].plot(figsize=[10,5], legend=True),\r\n"
   ],
   "outputs": [],
   "metadata": {}
  }
 ],
 "metadata": {
  "orig_nbformat": 4,
  "language_info": {
   "name": "python"
  }
 },
 "nbformat": 4,
 "nbformat_minor": 2
}