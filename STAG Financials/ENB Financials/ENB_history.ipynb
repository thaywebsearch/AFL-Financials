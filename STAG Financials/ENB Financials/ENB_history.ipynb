{
 "cells": [
  {
   "cell_type": "code",
   "execution_count": null,
   "metadata": {},
   "outputs": [],
   "source": [
    "import yfinance as yf\n",
    "\n",
    "enb = yf.Ticker('enb')\n",
    "\n",
    "hist = enb.history(period=\"max\")\n",
    "\n",
    "print(enb.history)"
   ]
  }
 ],
 "metadata": {
  "language_info": {
   "name": "python"
  },
  "orig_nbformat": 4
 },
 "nbformat": 4,
 "nbformat_minor": 2
}
