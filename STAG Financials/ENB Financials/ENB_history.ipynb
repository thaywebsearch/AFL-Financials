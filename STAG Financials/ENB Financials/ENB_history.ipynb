{
 "cells": [
  {
   "cell_type": "code",
   "execution_count": 1,
   "metadata": {},
   "outputs": [
    {
     "name": "stdout",
     "output_type": "stream",
     "text": [
      "<bound method TickerBase.history of yfinance.Ticker object <ENB>>\n"
     ]
    }
   ],
   "source": [
    "import yfinance as yf\n",
    "\n",
    "enb = yf.Ticker('enb')\n",
    "\n",
    "hist = enb.history(period=\"max\")\n",
    "\n",
    "print(enb.history)"
   ]
  },
  {
   "cell_type": "code",
   "execution_count": 2,
   "metadata": {},
   "outputs": [
    {
     "name": "stdout",
     "output_type": "stream",
     "text": [
      "                                    2020-12-31    2019-12-31    2018-12-31  \\\n",
      "Intangible Assets                 2.080000e+09  2.173000e+09  2.372000e+09   \n",
      "Capital Surplus                   2.770000e+08  1.870000e+08           NaN   \n",
      "Total Liab                        9.591300e+10  9.375000e+10  9.347000e+10   \n",
      "Total Stockholder Equity          5.362000e+10  5.829600e+10  6.172300e+10   \n",
      "Minority Interest                 2.996000e+09  3.364000e+09  3.965000e+09   \n",
      "Deferred Long Term Liab           5.480000e+08  8.710000e+08  5.289000e+09   \n",
      "Other Current Liab                5.209000e+09  5.321000e+09  4.918000e+09   \n",
      "Total Assets                      1.602760e+11  1.631570e+11  1.669050e+11   \n",
      "Common Stock                      6.476800e+10  6.474600e+10  6.467700e+10   \n",
      "Other Current Assets              3.610000e+08  3.560000e+08  5.950000e+08   \n",
      "Retained Earnings                -9.995000e+09 -6.314000e+09 -5.538000e+09   \n",
      "Other Liab                        1.809500e+10  1.724300e+10  1.808700e+10   \n",
      "Good Will                         3.268800e+10  3.315300e+10  3.445900e+10   \n",
      "Treasury Stock                   -1.430000e+09 -3.230000e+08  2.584000e+09   \n",
      "Other Assets                      8.881000e+09  8.065000e+09  1.025000e+10   \n",
      "Cash                              4.520000e+08  6.480000e+08  5.180000e+08   \n",
      "Total Current Liabilities         1.397900e+10  1.589800e+10  1.485500e+10   \n",
      "Deferred Long Term Asset Charges  7.700000e+08  1.000000e+09  1.374000e+09   \n",
      "Short Long Term Debt              3.382000e+09  4.404000e+09  3.600000e+09   \n",
      "Other Stockholder Equity         -1.430000e+09 -3.230000e+08  2.584000e+09   \n",
      "Property Plant Equipment          9.540300e+10  9.452500e+10  9.454000e+10   \n",
      "Total Current Assets              7.350000e+09  8.713000e+09  8.572000e+09   \n",
      "Long Term Investments             1.387400e+10  1.652800e+10  1.671200e+10   \n",
      "Net Tangible Assets               1.885200e+10  2.297000e+10  2.489200e+10   \n",
      "Net Receivables                   5.001000e+09  6.410000e+09  6.098000e+09   \n",
      "Long Term Debt                    6.306000e+10  5.984200e+10  6.052800e+10   \n",
      "Inventory                         1.536000e+09  1.299000e+09  1.339000e+09   \n",
      "Accounts Payable                  3.519000e+09  4.541000e+09  4.644000e+09   \n",
      "\n",
      "                                    2017-12-31  \n",
      "Intangible Assets                 3.267000e+09  \n",
      "Capital Surplus                   3.194000e+09  \n",
      "Total Liab                        9.229400e+10  \n",
      "Total Stockholder Equity          5.038800e+10  \n",
      "Minority Interest                 1.166400e+10  \n",
      "Deferred Long Term Liab           4.669000e+09  \n",
      "Other Current Liab                4.014000e+09  \n",
      "Total Assets                      1.620930e+11  \n",
      "Common Stock                      5.073700e+10  \n",
      "Other Current Assets              3.950000e+08  \n",
      "Retained Earnings                -2.468000e+09  \n",
      "Other Liab                        1.676500e+10  \n",
      "Good Will                         3.445700e+10  \n",
      "Treasury Stock                   -1.075000e+09  \n",
      "Other Assets                      7.786000e+09  \n",
      "Cash                              4.800000e+08  \n",
      "Total Current Liabilities         1.462400e+10  \n",
      "Deferred Long Term Asset Charges  1.090000e+09  \n",
      "Short Long Term Debt              3.200000e+09  \n",
      "Other Stockholder Equity         -1.075000e+09  \n",
      "Property Plant Equipment          9.071100e+10  \n",
      "Total Current Assets              9.215000e+09  \n",
      "Long Term Investments             1.665700e+10  \n",
      "Net Tangible Assets               1.266400e+10  \n",
      "Net Receivables                   6.804000e+09  \n",
      "Long Term Debt                    6.090500e+10  \n",
      "Inventory                         1.528000e+09  \n",
      "Accounts Payable                  5.292000e+09  \n"
     ]
    }
   ],
   "source": [
    "import yfinance as yf\n",
    "\n",
    "enb = yf.Ticker('enb')\n",
    "\n",
    "print(enb.balance_sheet)"
   ]
  }
 ],
 "metadata": {
  "interpreter": {
   "hash": "b89b5cfaba6639976dc87ff2fec6d58faec662063367e2c229c520fe71072417"
  },
  "kernelspec": {
   "display_name": "Python 3.10.0 64-bit",
   "language": "python",
   "name": "python3"
  },
  "language_info": {
   "codemirror_mode": {
    "name": "ipython",
    "version": 3
   },
   "file_extension": ".py",
   "mimetype": "text/x-python",
   "name": "python",
   "nbconvert_exporter": "python",
   "pygments_lexer": "ipython3",
   "version": "3.10.0"
  },
  "orig_nbformat": 4
 },
 "nbformat": 4,
 "nbformat_minor": 2
}
