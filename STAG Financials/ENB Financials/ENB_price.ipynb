{
 "cells": [
  {
   "cell_type": "code",
   "execution_count": null,
   "metadata": {},
   "outputs": [],
   "source": [
    "import bs4\n",
    "import requests\n",
    "from bs4 import BeautifulSoup\n",
    "\n",
    "url = requests.get('https://finance.yahoo.com/quote/ENB?p=ENB')\n",
    "\n",
    "soup = bs4.BeautifulSoup(url.text, features=\"html.parser\")\n",
    "\n",
    "price = soup.find_all(\"div\", {'class': 'My(6px) Pos(r) smartphone_Mt(6px)'})[0].find('span').text\n",
    "\n",
    "print(price)\n"
   ]
  }
 ],
 "metadata": {
  "language_info": {
   "name": "python"
  },
  "orig_nbformat": 4
 },
 "nbformat": 4,
 "nbformat_minor": 2
}
