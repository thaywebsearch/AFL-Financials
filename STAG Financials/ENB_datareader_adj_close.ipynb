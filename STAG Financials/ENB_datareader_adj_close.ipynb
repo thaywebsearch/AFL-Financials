{
 "cells": [
  {
   "cell_type": "code",
   "execution_count": null,
   "metadata": {},
   "outputs": [],
   "source": [
    "from pandas_datareader import data\n",
    "\n",
    "enb = data.DataReader(\"ENB\", start='2020-01-01' , end='2020-12-31', data_source='yahoo')['Adj Close']\n",
    "\n",
    "enb.plot(title='STAG Adj. Closing Price')"
   ]
  }
 ],
 "metadata": {
  "language_info": {
   "name": "python"
  },
  "orig_nbformat": 4
 },
 "nbformat": 4,
 "nbformat_minor": 2
}
