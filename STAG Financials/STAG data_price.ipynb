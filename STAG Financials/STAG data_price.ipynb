{
 "cells": [
  {
   "cell_type": "code",
   "execution_count": null,
   "metadata": {},
   "outputs": [],
   "source": [
    "import yfinance as yf\n",
    "\n",
    "stock_info = yf.Ticker('STAG').info\n",
    "\n",
    "markt_price = stock_info['regularMarketPrice']\n",
    "\n",
    "previous_close_price = stock_info['regularMarktPreviousClose']\n",
    "\n",
    "print('market price')\n",
    "\n",
    "print('previous close price')"
   ]
  }
 ],
 "metadata": {
  "interpreter": {
   "hash": "b89b5cfaba6639976dc87ff2fec6d58faec662063367e2c229c520fe71072417"
  },
  "kernelspec": {
   "display_name": "Python 3.10.0 64-bit",
   "language": "python",
   "name": "python3"
  },
  "language_info": {
   "name": "python",
   "version": "3.10.0"
  },
  "orig_nbformat": 4
 },
 "nbformat": 4,
 "nbformat_minor": 2
}
