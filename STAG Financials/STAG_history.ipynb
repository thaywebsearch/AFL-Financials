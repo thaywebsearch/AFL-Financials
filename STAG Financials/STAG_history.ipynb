{
 "cells": [
  {
   "cell_type": "code",
   "execution_count": 9,
   "source": [
    "import yfinance as yf\r\n",
    "\r\n",
    "stag = yf.Ticker('stag')\r\n",
    "\r\n",
    "hist = stag.history(period=\"max\")\r\n",
    "\r\n",
    "print(stag.history)"
   ],
   "outputs": [
    {
     "output_type": "stream",
     "name": "stdout",
     "text": [
      "<bound method TickerBase.history of yfinance.Ticker object <STAG>>\n"
     ]
    }
   ],
   "metadata": {}
  },
  {
   "cell_type": "code",
   "execution_count": 10,
   "source": [
    "import yfinance as yf\r\n",
    "\r\n",
    "stag = yf.Ticker('stag')\r\n",
    "\r\n",
    "print(stag.balance_sheet)"
   ],
   "outputs": [
    {
     "output_type": "stream",
     "name": "stdout",
     "text": [
      "                             2020-12-31    2019-12-31    2018-12-31  \\\n",
      "Intangible Assets          4.998020e+08  4.751490e+08  3.420150e+08   \n",
      "Capital Surplus            3.421721e+09  2.970553e+09  2.118179e+09   \n",
      "Total Liab                 1.921594e+09  1.800754e+09  1.432900e+09   \n",
      "Total Stockholder Equity   2.641207e+09  2.230528e+09  1.538803e+09   \n",
      "Minority Interest          5.484500e+07  5.836300e+07  5.582900e+07   \n",
      "Deferred Long Term Liab    1.600000e+06  2.400000e+06  3.200000e+06   \n",
      "Other Current Liab         1.937900e+07  1.746500e+07  1.375400e+07   \n",
      "Total Assets               4.692646e+09  4.164645e+09  3.102532e+09   \n",
      "Common Stock               1.582000e+06  1.428000e+06  1.122000e+06   \n",
      "Other Current Assets       4.208800e+07  8.167300e+07  4.827600e+07   \n",
      "Other Liab                 6.060600e+07  4.873100e+07  4.372000e+07   \n",
      "Good Will                  4.900000e+06           NaN           NaN   \n",
      "Treasury Stock            -7.820960e+08 -7.414530e+08 -5.804980e+08   \n",
      "Other Assets               1.600000e+06  2.400000e+06  3.200000e+06   \n",
      "Cash                       1.566600e+07  9.041000e+06  7.968000e+06   \n",
      "Total Current Liabilities  9.206700e+07  7.120200e+07  5.926100e+07   \n",
      "Short Long Term Debt       6.140000e+05           NaN           NaN   \n",
      "Other Stockholder Equity  -7.820960e+08 -7.414530e+08 -5.804980e+08   \n",
      "Property Plant Equipment   4.050794e+09  3.538487e+09  2.649686e+09   \n",
      "Total Current Assets       1.355500e+08  1.486090e+08  1.076310e+08   \n",
      "Net Tangible Assets        2.136505e+09  1.755379e+09  1.196788e+09   \n",
      "Net Receivables            7.779600e+07  5.759200e+07  4.223600e+07   \n",
      "Long Term Debt             1.743332e+09  1.663832e+09  1.329919e+09   \n",
      "Accounts Payable           6.346500e+07  4.743700e+07  3.960700e+07   \n",
      "\n",
      "                             2017-12-31  \n",
      "Intangible Assets          3.132530e+08  \n",
      "Capital Surplus            1.725825e+09  \n",
      "Total Liab                 1.270360e+09  \n",
      "Total Stockholder Equity   1.214040e+09  \n",
      "Minority Interest          5.126700e+07  \n",
      "Deferred Long Term Liab    1.500000e+06  \n",
      "Other Current Liab         1.188000e+07  \n",
      "Total Assets               2.680667e+09  \n",
      "Common Stock               9.700000e+05  \n",
      "Other Current Assets       4.734700e+07  \n",
      "Other Liab                 4.026600e+07  \n",
      "Good Will                           NaN  \n",
      "Treasury Stock            -5.127550e+08  \n",
      "Other Assets               1.500000e+06  \n",
      "Cash                       2.456200e+07  \n",
      "Total Current Liabilities  5.509600e+07  \n",
      "Short Long Term Debt                NaN  \n",
      "Other Stockholder Equity  -5.127550e+08  \n",
      "Property Plant Equipment   2.254324e+09  \n",
      "Total Current Assets       1.115900e+08  \n",
      "Net Tangible Assets        9.007870e+08  \n",
      "Net Receivables            3.360200e+07  \n",
      "Long Term Debt             1.174998e+09  \n",
      "Accounts Payable           3.761600e+07  \n"
     ]
    }
   ],
   "metadata": {}
  },
  {
   "cell_type": "code",
   "execution_count": 11,
   "source": [
    "import yfinance as yf\r\n",
    "\r\n",
    "stag = yf.Ticker('stag')\r\n",
    "\r\n",
    "print(stag.earnings)"
   ],
   "outputs": [
    {
     "output_type": "stream",
     "name": "stdout",
     "text": [
      "        Revenue   Earnings\n",
      "Year                      \n",
      "2017  301087000   31259000\n",
      "2018  350993000   92926000\n",
      "2019  405950000   49281000\n",
      "2020  483411000  202147000\n"
     ]
    }
   ],
   "metadata": {}
  },
  {
   "cell_type": "code",
   "execution_count": 12,
   "source": [
    "import yfinance as yf\r\n",
    "\r\n",
    "stag = yf.Ticker('stag')\r\n",
    "\r\n",
    "print(stag.dividends)"
   ],
   "outputs": [
    {
     "output_type": "stream",
     "name": "stdout",
     "text": [
      "Date\n",
      "2011-06-28    0.206\n",
      "2011-09-28    0.260\n",
      "2011-12-28    0.260\n",
      "2012-03-28    0.260\n",
      "2012-06-27    0.270\n",
      "              ...  \n",
      "2021-04-29    0.121\n",
      "2021-05-27    0.121\n",
      "2021-06-29    0.121\n",
      "2021-07-29    0.121\n",
      "2021-08-30    0.121\n",
      "Name: Dividends, Length: 105, dtype: float64\n"
     ]
    }
   ],
   "metadata": {}
  },
  {
   "cell_type": "code",
   "execution_count": 2,
   "source": [
    "import yfinance as yf\r\n",
    "\r\n",
    "stag = yf.Ticker('stag')\r\n",
    "\r\n",
    "print(stag.financials)"
   ],
   "outputs": [
    {
     "output_type": "stream",
     "name": "stdout",
     "text": [
      "                                         2020-12-31   2019-12-31   2018-12-31  \\\n",
      "Research Development                           None         None         None   \n",
      "Effect Of Accounting Charges                   None         None         None   \n",
      "Income Before Tax                       206795000.0   50665000.0   96245000.0   \n",
      "Minority Interest                        54845000.0   58363000.0   55829000.0   \n",
      "Net Income                              202147000.0   49281000.0   92926000.0   \n",
      "Selling General Administrative           40072000.0   35946000.0   34052000.0   \n",
      "Gross Profit                            394052000.0  330771000.0  281972000.0   \n",
      "Ebit                                    137213000.0  107590000.0   79026000.0   \n",
      "Operating Income                        137213000.0  107590000.0   79026000.0   \n",
      "Other Operating Expenses                  2029000.0    1785000.0    1277000.0   \n",
      "Interest Expense                        -62343000.0  -54647000.0  -48817000.0   \n",
      "Extraordinary Items                            None         None         None   \n",
      "Non Recurring                                  None         None         None   \n",
      "Other Items                                    None         None         None   \n",
      "Income Tax Expense                              0.0          0.0          0.0   \n",
      "Total Revenue                           483411000.0  405950000.0  350993000.0   \n",
      "Total Operating Expenses                346198000.0  298360000.0  271967000.0   \n",
      "Cost Of Revenue                          89359000.0   75179000.0   69021000.0   \n",
      "Total Other Income Expense Net           69582000.0  -56925000.0   17219000.0   \n",
      "Discontinued Operations                        None         None         None   \n",
      "Net Income From Continuing Ops          206795000.0   50665000.0   96245000.0   \n",
      "Net Income Applicable To Common Shares  196720000.0   43811000.0   82385000.0   \n",
      "\n",
      "                                         2017-12-31  \n",
      "Research Development                           None  \n",
      "Effect Of Accounting Charges                   None  \n",
      "Income Before Tax                        32200000.0  \n",
      "Minority Interest                        51267000.0  \n",
      "Net Income                               31259000.0  \n",
      "Selling General Administrative           33349000.0  \n",
      "Gross Profit                            238000000.0  \n",
      "Ebit                                     52673000.0  \n",
      "Operating Income                         52673000.0  \n",
      "Other Operating Expenses                  1097000.0  \n",
      "Interest Expense                        -42469000.0  \n",
      "Extraordinary Items                            None  \n",
      "Non Recurring                                  None  \n",
      "Other Items                                    None  \n",
      "Income Tax Expense                              0.0  \n",
      "Total Revenue                           301087000.0  \n",
      "Total Operating Expenses                248414000.0  \n",
      "Cost Of Revenue                          63087000.0  \n",
      "Total Other Income Expense Net          -20473000.0  \n",
      "Discontinued Operations                        None  \n",
      "Net Income From Continuing Ops           32200000.0  \n",
      "Net Income Applicable To Common Shares   21131000.0  \n"
     ]
    }
   ],
   "metadata": {}
  }
 ],
 "metadata": {
  "orig_nbformat": 4,
  "language_info": {
   "name": "python",
   "version": "3.9.1",
   "mimetype": "text/x-python",
   "codemirror_mode": {
    "name": "ipython",
    "version": 3
   },
   "pygments_lexer": "ipython3",
   "nbconvert_exporter": "python",
   "file_extension": ".py"
  },
  "kernelspec": {
   "name": "python3",
   "display_name": "Python 3.9.1 64-bit"
  },
  "interpreter": {
   "hash": "3f3e64df641f34e105f69b04d31a9fa120efec5259c1d25336167da3fc762860"
  }
 },
 "nbformat": 4,
 "nbformat_minor": 2
}