                                      Firm           To Grade      From Grade  \
Date                                                                            
2012-05-15 07:14:00      Cantor Fitzgerald               Hold                   
2012-05-25 06:42:00              JP Morgan            Neutral                   
2012-06-22 08:32:00          Raymond James         Outperform                   
2012-07-03 06:17:00      Cantor Fitzgerald               Hold                   
2012-08-16 11:05:00              JP Morgan            Neutral                   
2012-09-06 16:15:00      Cantor Fitzgerald               Hold                   
2012-10-24 10:36:00      Evercore Partners         Overweight                   
2012-12-05 09:41:29      Evercore Partners       Equal-Weight      Overweight   
2013-01-15 09:29:28                  Baird         Outperform                   
2013-03-05 08:34:48              JP Morgan            Neutral                   
2013-07-19 07:35:36            RBC Capital         Outperform  Sector Perform   
2013-09-10 16:04:08    McNicoll Lewis Vlak                Buy                   
2013-09-11 09:03:50              MLV & Co.                Buy                   
2013-11-04 09:31:36      Evercore Partners         Overweight    Equal-Weight   
2014-07-21 08:43:23        Sandler O'Neill                Buy                   
2014-09-02 08:57:08  Capital One Financial         Overweight                   
2014-10-31 09:00:00         JMP Securities  Market Outperform                   
2015-01-15 00:00:00              JP Morgan            Neutral      Overweight   
2015-03-26 09:00:00              JP Morgan            Neutral                   
2015-04-10 17:19:25            DA Davidson            Neutral                   
2015-06-25 09:13:11        Bank of America            Neutral             Buy   
2015-07-17 07:15:28                    UBS               Sell         Neutral   
2015-09-08 11:07:23     Evercore ISI Group                Buy                   
2015-11-11 16:52:25           BB&T Capital        Underweight                   
2015-12-02 11:11:21  Capital One Financial       Equal-Weight      Overweight   
2015-12-11 06:07:30            DA Davidson            Neutral                   
2016-01-22 07:46:53              Jefferies               Hold                   
2016-02-26 08:47:53           BB&T Capital               Hold     Underweight   
2016-03-02 07:09:16  Capital One Financial         Overweight    Equal-Weight   
2016-03-11 06:59:10        Bank of America       Underperform         Neutral   
2016-06-13 09:06:24     Evercore ISI Group               Hold             Buy   
2016-10-14 11:45:01  Capital One Financial         Overweight    Equal-Weight   
2016-11-15 12:00:47              Jefferies                Buy            Hold   
2017-08-09 15:08:59          Raymond James         Outperform                   
2017-08-14 15:46:47     Evercore ISI Group         Outperform         In-Line   
2017-12-19 10:56:39              JP Morgan         Overweight         Neutral   
2018-03-19 14:46:07              JP Morgan         Overweight      Overweight   
2018-06-15 11:06:16              JP Morgan            Neutral      Overweight   
2018-06-21 11:25:14                    UBS            Neutral         Neutral   
2018-11-05 16:49:42          Raymond James         Outperform      Outperform   
2019-04-23 13:04:35              Berenberg               Hold                   
2019-12-10 11:58:34            Wells Fargo         Outperform  Market Perform   
2019-12-18 11:30:55              JP Morgan         Overweight         Neutral   
2019-12-18 12:29:26            RBC Capital           Top Pick      Outperform   
2020-02-14 12:51:03          Raymond James         Outperform                   
2020-02-27 16:16:01              Citigroup            Neutral                   
2020-04-02 18:01:49            RBC Capital         Outperform                   
2020-04-07 20:10:10              Citigroup            Neutral                   
2020-05-07 16:19:39                  Baird         Outperform                   
2020-08-06 18:55:33            Wells Fargo         Overweight                   
2020-08-13 12:02:46              Citigroup            Neutral                   
2020-09-23 11:32:17                  Baird            Neutral      Outperform   
2020-11-16 16:17:31      B of A Securities       Underperform                   
2020-12-21 12:15:49              JP Morgan            Neutral      Overweight   
2021-05-06 12:07:27          Raymond James         Outperform                   
2021-06-07 11:26:13            Wells Fargo         Overweight                   
2021-07-12 12:03:39          Raymond James         Outperform                   
2021-07-29 10:07:20          Raymond James         Outperform                   
2021-08-03 13:03:50            RBC Capital         Outperform                   

                    Action  
Date                        
2012-05-15 07:14:00   main  
2012-05-25 06:42:00   main  
2012-06-22 08:32:00   init  
2012-07-03 06:17:00   main  
2012-08-16 11:05:00   main  
2012-09-06 16:15:00   main  
2012-10-24 10:36:00   init  
2012-12-05 09:41:29   down  
2013-01-15 09:29:28   init  
2013-03-05 08:34:48   main  
2013-07-19 07:35:36     up  
2013-09-10 16:04:08   init  
2013-09-11 09:03:50   init  
2013-11-04 09:31:36     up  
2014-07-21 08:43:23   init  
2014-09-02 08:57:08   init  
2014-10-31 09:00:00   main  
2015-01-15 00:00:00   down  
2015-03-26 09:00:00   main  
2015-04-10 17:19:25   init  
2015-06-25 09:13:11   down  
2015-07-17 07:15:28   down  
2015-09-08 11:07:23   main  
2015-11-11 16:52:25   init  
2015-12-02 11:11:21   down  
2015-12-11 06:07:30   main  
2016-01-22 07:46:53   init  
2016-02-26 08:47:53     up  
2016-03-02 07:09:16     up  
2016-03-11 06:59:10   down  
2016-06-13 09:06:24   down  
2016-10-14 11:45:01     up  
2016-11-15 12:00:47     up  
2017-08-09 15:08:59   main  
2017-08-14 15:46:47     up  
2017-12-19 10:56:39     up  
2018-03-19 14:46:07   main  
2018-06-15 11:06:16   down  
2018-06-21 11:25:14   main  
2018-11-05 16:49:42   main  
2019-04-23 13:04:35   init  
2019-12-10 11:58:34     up  
2019-12-18 11:30:55     up  
2019-12-18 12:29:26     up  
2020-02-14 12:51:03   main  
2020-02-27 16:16:01   init  
2020-04-02 18:01:49   main  
2020-04-07 20:10:10   main  
2020-05-07 16:19:39   main  
2020-08-06 18:55:33   main  
2020-08-13 12:02:46   main  
2020-09-23 11:32:17   down  
2020-11-16 16:17:31   main  
2020-12-21 12:15:49   down  
2021-05-06 12:07:27   main  
2021-06-07 11:26:13   main  
2021-07-12 12:03:39   main  
2021-07-29 10:07:20   main  
2021-08-03 13:03:50   main  
