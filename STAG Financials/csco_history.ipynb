{
 "cells": [
  {
   "cell_type": "markdown",
   "metadata": {},
   "source": []
  },
  {
   "cell_type": "code",
   "execution_count": 1,
   "metadata": {},
   "outputs": [
    {
     "name": "stdout",
     "output_type": "stream",
     "text": [
      "<bound method TickerBase.history of yfinance.Ticker object <CSCO>>\n"
     ]
    }
   ],
   "source": [
    "import yfinance as yf\n",
    "\n",
    "csco = yf.Ticker('csco')\n",
    "\n",
    "hist = csco.history(period=\"max\")\n",
    "\n",
    "print(csco.history)"
   ]
  },
  {
   "cell_type": "code",
   "execution_count": 2,
   "metadata": {},
   "outputs": [
    {
     "name": "stdout",
     "output_type": "stream",
     "text": [
      "                                    2021-07-31    2020-07-25    2019-07-27  \\\n",
      "Intangible Assets                 3.619000e+09  1.576000e+09  2.201000e+09   \n",
      "Total Liab                        5.622200e+10  5.693300e+10  6.422200e+10   \n",
      "Total Stockholder Equity          4.127500e+10  3.792000e+10  3.357100e+10   \n",
      "Other Current Liab                1.708100e+10  1.650400e+10  1.611100e+10   \n",
      "Total Assets                      9.749700e+10  9.485300e+10  9.779300e+10   \n",
      "Common Stock                      4.234600e+10  4.120200e+10  4.026600e+10   \n",
      "Other Current Assets              2.880000e+09  2.343000e+09  2.373000e+09   \n",
      "Retained Earnings                -6.540000e+08 -2.763000e+09 -5.903000e+09   \n",
      "Other Liab                        2.011600e+10  1.936300e+10  1.803500e+10   \n",
      "Good Will                         3.816800e+10  3.380600e+10  3.352900e+10   \n",
      "Treasury Stock                   -4.170000e+08 -5.190000e+08 -7.920000e+08   \n",
      "Other Assets                      1.231600e+10  1.235500e+10  1.024400e+10   \n",
      "Cash                              9.175000e+09  1.180900e+10  1.175000e+10   \n",
      "Total Current Liabilities         2.625700e+10  2.533100e+10  3.171200e+10   \n",
      "Deferred Long Term Asset Charges  4.360000e+09  3.990000e+09  4.065000e+09   \n",
      "Short Long Term Debt              2.508000e+09  3.005000e+09  5.999000e+09   \n",
      "Other Stockholder Equity         -4.170000e+08 -5.190000e+08 -7.920000e+08   \n",
      "Property Plant Equipment          3.433000e+09  3.374000e+09  2.789000e+09   \n",
      "Total Current Assets              3.911200e+10  4.357300e+10  4.775500e+10   \n",
      "Long Term Investments             8.490000e+08  1.690000e+08  1.275000e+09   \n",
      "Net Tangible Assets              -5.120000e+08  2.538000e+09 -2.159000e+09   \n",
      "Short Term Investments            1.534300e+10  1.761000e+10  2.166300e+10   \n",
      "Net Receivables                   1.014600e+10  1.052300e+10  1.058600e+10   \n",
      "Long Term Debt                    9.018000e+09  1.157800e+10  1.447500e+10   \n",
      "Inventory                         1.559000e+09  1.282000e+09  1.383000e+09   \n",
      "Accounts Payable                  2.513000e+09  2.359000e+09  2.188000e+09   \n",
      "\n",
      "                                    2018-07-28  \n",
      "Intangible Assets                 2.552000e+09  \n",
      "Total Liab                        6.558000e+10  \n",
      "Total Stockholder Equity          4.320400e+10  \n",
      "Other Current Liab                1.673800e+10  \n",
      "Total Assets                      1.087840e+11  \n",
      "Common Stock                      4.282000e+10  \n",
      "Other Current Assets              1.440000e+09  \n",
      "Retained Earnings                 1.233000e+09  \n",
      "Other Liab                        1.815200e+10  \n",
      "Good Will                         3.170600e+10  \n",
      "Treasury Stock                   -8.490000e+08  \n",
      "Other Assets                      8.587000e+09  \n",
      "Cash                              8.934000e+09  \n",
      "Total Current Liabilities         2.703500e+10  \n",
      "Deferred Long Term Asset Charges  3.219000e+09  \n",
      "Short Long Term Debt              5.248000e+09  \n",
      "Other Stockholder Equity         -8.490000e+08  \n",
      "Property Plant Equipment          3.006000e+09  \n",
      "Total Current Assets              6.183700e+10  \n",
      "Long Term Investments             1.096000e+09  \n",
      "Net Tangible Assets               8.946000e+09  \n",
      "Short Term Investments            3.761400e+10  \n",
      "Net Receivables                   1.200300e+10  \n",
      "Long Term Debt                    2.039300e+10  \n",
      "Inventory                         1.846000e+09  \n",
      "Accounts Payable                  2.063000e+09  \n"
     ]
    }
   ],
   "source": [
    "import yfinance as yf\n",
    "\n",
    "csco = yf.Ticker('csco')\n",
    "\n",
    "print(csco.balance_sheet)"
   ]
  },
  {
   "cell_type": "code",
   "execution_count": 3,
   "metadata": {},
   "outputs": [
    {
     "name": "stdout",
     "output_type": "stream",
     "text": [
      "Date\n",
      "2011-03-29    0.06\n",
      "2011-07-05    0.06\n",
      "2011-10-04    0.06\n",
      "2012-01-03    0.06\n",
      "2012-04-03    0.08\n",
      "2012-07-02    0.08\n",
      "2012-10-02    0.14\n",
      "2012-11-27    0.14\n",
      "2013-04-04    0.17\n",
      "2013-07-01    0.17\n",
      "2013-10-01    0.17\n",
      "2014-01-02    0.17\n",
      "2014-04-01    0.19\n",
      "2014-07-02    0.19\n",
      "2014-09-30    0.19\n",
      "2015-01-02    0.19\n",
      "2015-03-31    0.21\n",
      "2015-07-01    0.21\n",
      "2015-10-01    0.21\n",
      "2016-01-04    0.21\n",
      "2016-04-04    0.26\n",
      "2016-07-05    0.26\n",
      "2016-10-03    0.26\n",
      "2017-01-04    0.26\n",
      "2017-04-04    0.29\n",
      "2017-07-05    0.29\n",
      "2017-10-04    0.29\n",
      "2018-01-04    0.29\n",
      "2018-04-04    0.33\n",
      "2018-07-05    0.33\n",
      "2018-10-04    0.33\n",
      "2019-01-03    0.33\n",
      "2019-04-04    0.35\n",
      "2019-07-03    0.35\n",
      "2019-10-03    0.35\n",
      "2020-01-02    0.35\n",
      "2020-04-02    0.36\n",
      "2020-07-02    0.36\n",
      "2020-10-01    0.36\n",
      "2021-01-04    0.36\n",
      "2021-04-05    0.37\n",
      "2021-07-02    0.37\n",
      "2021-10-04    0.37\n",
      "2022-01-04    0.37\n",
      "Name: Dividends, dtype: float64\n"
     ]
    }
   ],
   "source": [
    "import yfinance as yf\n",
    "\n",
    "csco = yf.Ticker('csco')\n",
    "\n",
    "print(csco.dividends)"
   ]
  }
 ],
 "metadata": {
  "interpreter": {
   "hash": "b89b5cfaba6639976dc87ff2fec6d58faec662063367e2c229c520fe71072417"
  },
  "kernelspec": {
   "display_name": "Python 3.10.0 64-bit",
   "language": "python",
   "name": "python3"
  },
  "language_info": {
   "codemirror_mode": {
    "name": "ipython",
    "version": 3
   },
   "file_extension": ".py",
   "mimetype": "text/x-python",
   "name": "python",
   "nbconvert_exporter": "python",
   "pygments_lexer": "ipython3",
   "version": "3.10.0"
  },
  "orig_nbformat": 4
 },
 "nbformat": 4,
 "nbformat_minor": 2
}
