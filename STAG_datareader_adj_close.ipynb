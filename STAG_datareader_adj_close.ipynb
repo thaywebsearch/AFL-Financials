{
 "cells": [
  {
   "cell_type": "code",
   "execution_count": null,
   "source": [
    "from pandas_datareader import data\r\n",
    "\r\n",
    "stag = data.DataReader(\"STAG\", start='2020-01-01' , end='2020-12-31', data_source='yahoo')['Adj Close']\r\n",
    "\r\n",
    "stag.plot(title='STAG Adj. Closing Price')"
   ],
   "outputs": [],
   "metadata": {}
  }
 ],
 "metadata": {
  "orig_nbformat": 4,
  "language_info": {
   "name": "python"
  }
 },
 "nbformat": 4,
 "nbformat_minor": 2
}