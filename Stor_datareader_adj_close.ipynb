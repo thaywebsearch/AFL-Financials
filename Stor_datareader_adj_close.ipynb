{
 "cells": [
  {
   "cell_type": "code",
   "execution_count": null,
   "metadata": {},
   "outputs": [],
   "source": [
    "#Convert the adjusted closing prices to cymulative returns.\n",
    "returns = Stor.pct_change()\n",
    "((1 + returns).cumprod() -1).plot(title='STOR Cumulative Returns')"
   ]
  }
 ],
 "metadata": {
  "language_info": {
   "name": "python"
  },
  "orig_nbformat": 4
 },
 "nbformat": 4,
 "nbformat_minor": 2
}
