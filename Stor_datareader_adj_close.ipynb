{
 "cells": [
  {
   "cell_type": "code",
   "execution_count": null,
   "metadata": {},
   "outputs": [],
   "source": [
    "#Convert the adjusted closing prices to cymulative returns.\n",
    "returns = Stor.pct_change()\n",
    "((1 + returns).cumprod() -1).plot(title='STOR Cumulative Returns')"
   ]
  },
  {
   "cell_type": "code",
   "execution_count": null,
   "metadata": {},
   "outputs": [],
   "source": [
    "from pandas_datareader import data\n",
    "#Get the adjust close.\n",
    "stor = data.DataReader(\"STOR\", start='2020-01-01', end='2020-12-31', data_source='yahoo')['Adj Close']\n",
    "\n",
    "stor.plot(title='AFL Adj. Closing Price')"
   ]
  }
 ],
 "metadata": {
  "language_info": {
   "name": "python"
  },
  "orig_nbformat": 4
 },
 "nbformat": 4,
 "nbformat_minor": 2
}
