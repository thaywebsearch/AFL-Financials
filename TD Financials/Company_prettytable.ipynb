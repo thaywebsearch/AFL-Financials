{
 "cells": [
  {
   "cell_type": "code",
   "execution_count": 1,
   "metadata": {},
   "outputs": [
    {
     "name": "stdout",
     "output_type": "stream",
     "text": [
      "+------------------+-------+------------+----------------+\n",
      "|     Company      | Stock | Net Income | Free Cash Flow |\n",
      "+------------------+-------+------------+----------------+\n",
      "| Toronto Dominion |   TD  |   11.458   |     42.383     |\n",
      "|    Brookfield    |  BAM  |   2.654    |     1.767      |\n",
      "|     Enbridge     |  ENB  |   5.477    |     36.92      |\n",
      "+------------------+-------+------------+----------------+\n"
     ]
    }
   ],
   "source": [
    "from prettytable import PrettyTable\n",
    "myTable = PrettyTable([\"Company\", \"Stock\", \"Net Income\", \"Free Cash Flow\"])\n",
    "\n",
    "myTable.add_row([\"Toronto Dominion\", \"TD\", \"11.458\", \"42.383\"])\n",
    "myTable.add_row([\"Brookfield\", \"BAM\", \"2.654\", \"1.767\"])\n",
    "myTable.add_row([\"Enbridge\", \"ENB\", \"5.477\", \"36.92\"])\n",
    "\n",
    "print(myTable)"
   ]
  }
 ],
 "metadata": {
  "kernelspec": {
   "display_name": "Python 3.10.4 64-bit",
   "language": "python",
   "name": "python3"
  },
  "language_info": {
   "codemirror_mode": {
    "name": "ipython",
    "version": 3
   },
   "file_extension": ".py",
   "mimetype": "text/x-python",
   "name": "python",
   "nbconvert_exporter": "python",
   "pygments_lexer": "ipython3",
   "version": "3.10.4"
  },
  "orig_nbformat": 4,
  "vscode": {
   "interpreter": {
    "hash": "26de051ba29f2982a8de78e945f0abaf191376122a1563185a90213a26c5da77"
   }
  }
 },
 "nbformat": 4,
 "nbformat_minor": 2
}
