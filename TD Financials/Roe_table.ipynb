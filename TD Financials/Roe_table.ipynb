{
 "cells": [
  {
   "cell_type": "code",
   "execution_count": 4,
   "metadata": {},
   "outputs": [
    {
     "name": "stdout",
     "output_type": "stream",
     "text": [
      "+---------+-------+\n",
      "| Stock   |   Roe |\n",
      "+=========+=======+\n",
      "| TD      |  8.4  |\n",
      "+---------+-------+\n",
      "| ENB     |  3.52 |\n",
      "+---------+-------+\n",
      "| BAM     |  0.98 |\n",
      "+---------+-------+\n",
      "| FTS     |  2.19 |\n",
      "+---------+-------+\n"
     ]
    }
   ],
   "source": [
    "# import module\n",
    "from tabulate import tabulate\n",
    "\n",
    "# assign data\n",
    "mydata = [\n",
    "    [\"TD\" , \"8.4\"],\n",
    "    [\"ENB\" , \"3.52\"],\n",
    "    [\"BAM\" , \"0.98\"],\n",
    "    [\"FTS\" , \"2.19\"]\n",
    "]\n",
    "\n",
    "# create header\n",
    "head = [\"Stock\", \"Roe\"]\n",
    "\n",
    "# display table\n",
    "def new_func(mydata, head):\n",
    "    print(tabulate(mydata, headers=head, tablefmt=\"grid\"))\n",
    "\n",
    "new_func(mydata, head)"
   ]
  },
  {
   "cell_type": "code",
   "execution_count": 3,
   "metadata": {},
   "outputs": [],
   "source": [
    "mydata = [\n",
    "    ['a', 'b', 'c'],\n",
    "    [12, 26, 34],\n",
    "    ['Learn', 'Python', 'Tables']\n",
    "]\n",
    "\n"
   ]
  },
  {
   "cell_type": "code",
   "execution_count": 2,
   "metadata": {},
   "outputs": [
    {
     "name": "stdout",
     "output_type": "stream",
     "text": [
      "+---------------------+-----------------+\n",
      "| Acionistas          |   Nº Acionistas |\n",
      "+=====================+=================+\n",
      "| RBC Inc             |               1 |\n",
      "+---------------------+-----------------+\n",
      "| 1832 A.Management   |               2 |\n",
      "+---------------------+-----------------+\n",
      "| The Vanguard G.     |               3 |\n",
      "+---------------------+-----------------+\n",
      "| Capital Research M. |               4 |\n",
      "+---------------------+-----------------+\n",
      "| RBC Dominion S.     |               5 |\n",
      "+---------------------+-----------------+\n",
      "| BMO A.Management    |               6 |\n",
      "+---------------------+-----------------+\n",
      "| CIBC World M.       |               7 |\n",
      "+---------------------+-----------------+\n"
     ]
    }
   ],
   "source": [
    "from tabulate import tabulate\n",
    "\n",
    "mydata = [\n",
    "    [\"RBC Inc\", \"1\"],\n",
    "    [\"1832 A.Management\", \"2\"],\n",
    "    [\"The Vanguard G.\", \"3\"],\n",
    "    [\"Capital Research M.\", \"4\"],\n",
    "    [\"RBC Dominion S.\", \"5\"],\n",
    "    [\"BMO A.Management\", \"6\"],\n",
    "    [\"CIBC World M.\", \"7\"]\n",
    "]\n",
    "\n",
    "head = [\"Acionistas\", \"Nº Acionistas\"]\n",
    "\n",
    "print(tabulate(mydata, headers=head, tablefmt=\"grid\"))"
   ]
  },
  {
   "cell_type": "code",
   "execution_count": 1,
   "metadata": {},
   "outputs": [
    {
     "name": "stdout",
     "output_type": "stream",
     "text": [
      "+------------------------------+--------------------------+--------+--------+-------------+--------+\n",
      "| Empresa                      | Indústria                | País   |   Beta | Dividendo   | EPS    |\n",
      "+==============================+==========================+========+========+=============+========+\n",
      "| Brookfield A.M               | Gestão de Ativos         | Canadá |   1.32 | 1.48%       | $2.28  |\n",
      "+------------------------------+--------------------------+--------+--------+-------------+--------+\n",
      "| Enbridge                     | Petróleo e Gás Midstream | Canadá |   0.81 | 7.10%       | $2.20  |\n",
      "+------------------------------+--------------------------+--------+--------+-------------+--------+\n",
      "| Enterprise Products Partners | Petróleo e Gás Midstream | EUA    |   1.1  | 7.66%       | $2.28  |\n",
      "+------------------------------+--------------------------+--------+--------+-------------+--------+\n",
      "| Exxon Mobile                 | Petróleo e Gás Integrado | EUA    |   1.04 | 3.31%       | $12.71 |\n",
      "+------------------------------+--------------------------+--------+--------+-------------+--------+\n",
      "| Ugi Corp.                    | Utilidades, Gás Regulado | EUA    |   1.06 | 4.39%       | $2.56  |\n",
      "+------------------------------+--------------------------+--------+--------+-------------+--------+\n",
      "| Kinder Morgan                | Petróleo e Gás Midstream | EUA    |   0.91 | 6.43%       | $1.11  |\n",
      "+------------------------------+--------------------------+--------+--------+-------------+--------+\n",
      "| Coterra Energy               | Petróleo e Gás           | EUA    |   0.15 | 1.99%       | $3.60  |\n",
      "+------------------------------+--------------------------+--------+--------+-------------+--------+\n"
     ]
    }
   ],
   "source": [
    "from tabulate import tabulate\n",
    "\n",
    "mydata = [\n",
    "    [\"Brookfield A.M\", \"Gestão de Ativos\", \"Canadá\", \"1.32\", \"1.48%\", \"$2.28\"],\n",
    "    [\"Enbridge\", \"Petróleo e Gás Midstream\", \"Canadá\", \"0.81\", \"7.10%\", \"$2.20\"],\n",
    "    [\"Enterprise Products Partners\", \"Petróleo e Gás Midstream\", \"EUA\", \"1.10\", \"7.66%\", \"$2.28\"],\n",
    "    [\"Exxon Mobile\", \"Petróleo e Gás Integrado\", \"EUA\", \"1.04\", \"3.31%\", \"$12.71\"],\n",
    "    [\"Ugi Corp.\", \"Utilidades, Gás Regulado\", \"EUA\", \"1.06\", \"4.39%\", \"$2.56\"],\n",
    "    [\"Kinder Morgan\", \"Petróleo e Gás Midstream\", \"EUA\", \"0.91\", \"6.43%\", \"$1.11\"],\n",
    "    [\"Coterra Energy\", \"Petróleo e Gás\", \"EUA\", \"0.15\", \"1.99%\", \"$3.60\"]\n",
    "]\n",
    "# Beta é uma medida de risco comumente usada para comparar a volatilidade de ações, fundos mútuos ou ETFs com a do mercado geral. O índice S&P 500 é a base para o cálculo do beta com valor de 1,0. Os títulos com betas abaixo de 1 têm sido historicamente menos voláteis do que o mercado. Enquanto títulos com betas acima de 1, historicamente têm sido mais voláteis que o mercado. O beta é calculado usando dados ao longo de um período de 5 anos.\n",
    "\n",
    "head = [\"Empresa\", \"Indústria\", \"País\", \"Beta\", \"Dividendo\", \"EPS\"]\n",
    "\n",
    "print(tabulate(mydata, headers=head, tablefmt=\"grid\"))"
   ]
  },
  {
   "cell_type": "code",
   "execution_count": 1,
   "metadata": {},
   "outputs": [
    {
     "name": "stdout",
     "output_type": "stream",
     "text": [
      "+-----------------------+-------------+--------+--------+-------------+-------+-----------------+------------+\n",
      "| Empresa               | Indústria   | País   |   Beta | Dividendo   | EPS   | Lucro Liquído   | Receita    |\n",
      "+=======================+=============+========+========+=============+=======+=================+============+\n",
      "| Toronto Dominion Bank | Bancos      | Canadá |   0.89 | 3.99%       | $6.52 | $11.458.00      | $49.998.60 |\n",
      "+-----------------------+-------------+--------+--------+-------------+-------+-----------------+------------+\n"
     ]
    }
   ],
   "source": [
    "from tabulate import tabulate\n",
    "\n",
    "mydata = [\n",
    "    [\"Toronto Dominion Bank\", \"Bancos\", \"Canadá\", \"0.89\", \"3.99%\", \"$6.52\", \"$11.458.00\", \"$49.998.60\"]\n",
    "]\n",
    "\n",
    "head = [\"Empresa\", \"Indústria\", \"País\", \"Beta\", \"Dividendo\", \"EPS\", \"Lucro Liquído\", \"Receita\"]\n",
    "\n",
    "print(tabulate(mydata, headers=head, tablefmt=\"grid\"))"
   ]
  }
 ],
 "metadata": {
  "kernelspec": {
   "display_name": "Python 3.10.4 64-bit",
   "language": "python",
   "name": "python3"
  },
  "language_info": {
   "codemirror_mode": {
    "name": "ipython",
    "version": 3
   },
   "file_extension": ".py",
   "mimetype": "text/x-python",
   "name": "python",
   "nbconvert_exporter": "python",
   "pygments_lexer": "ipython3",
   "version": "3.10.4"
  },
  "orig_nbformat": 4,
  "vscode": {
   "interpreter": {
    "hash": "26de051ba29f2982a8de78e945f0abaf191376122a1563185a90213a26c5da77"
   }
  }
 },
 "nbformat": 4,
 "nbformat_minor": 2
}
