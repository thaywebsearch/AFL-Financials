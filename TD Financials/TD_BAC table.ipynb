{
 "cells": [
  {
   "cell_type": "code",
   "execution_count": null,
   "metadata": {},
   "outputs": [],
   "source": [
    "from prettytable import PrettyTable\n",
    "myTable = PrettyTable([\"Empresa\", \"Stock\", \"Lucro Liquido\", \"Total Ativos\", \"Receita Total\", \"Patrimonio Total\"])\n",
    "\n",
    "myTable.add_row([\"Toronto Dominion\", \"TD\", \"$11.458\", \"$1.728.672\", \"$42.693\", \"$99.818\"])\n",
    "myTable.add_row([\"Bank of America\", \"BAC\"])\n"
   ]
  }
 ],
 "metadata": {
  "kernelspec": {
   "display_name": "Python 3.10.4 64-bit",
   "language": "python",
   "name": "python3"
  },
  "language_info": {
   "name": "python",
   "version": "3.10.4"
  },
  "orig_nbformat": 4,
  "vscode": {
   "interpreter": {
    "hash": "26de051ba29f2982a8de78e945f0abaf191376122a1563185a90213a26c5da77"
   }
  }
 },
 "nbformat": 4,
 "nbformat_minor": 2
}
