{
 "cells": [
  {
   "cell_type": "code",
   "execution_count": null,
   "source": [
    "import yfinance as yf\r\n",
    "\r\n",
    "tickerSymbol = 'TD'\r\n",
    "#get data on this ticker(tickerSymbol)\r\n",
    "tickerData = yf.Ticker(tickerSymbol)\r\n",
    "\r\n",
    "tickerDf = tickerData.history(period='1d', start='2010-1-1', end='2020-1-25')\r\n",
    "\r\n",
    "tickerDf"
   ],
   "outputs": [],
   "metadata": {}
  },
  {
   "cell_type": "code",
   "execution_count": null,
   "source": [
    "tickerSymbol = 'TD'\r\n",
    "\r\n",
    "tickerData = yf.Ticker(tickerSymbol)\r\n",
    "\r\n",
    "tickerData.info"
   ],
   "outputs": [],
   "metadata": {}
  },
  {
   "cell_type": "code",
   "execution_count": null,
   "source": [
    "tickerSymbol = 'TD'\r\n",
    "\r\n",
    "tickerData = yf.Ticker(tickerSymbol)\r\n",
    "\r\n",
    "tickerData.calendar"
   ],
   "outputs": [],
   "metadata": {}
  },
  {
   "cell_type": "code",
   "execution_count": null,
   "source": [
    "tickerSymbol = 'TD'\r\n",
    "\r\n",
    "tickerData = yf.Ticker(tickerSymbol)\r\n",
    "\r\n",
    "tickerData.recommendations"
   ],
   "outputs": [],
   "metadata": {}
  }
 ],
 "metadata": {
  "orig_nbformat": 4,
  "language_info": {
   "name": "python"
  }
 },
 "nbformat": 4,
 "nbformat_minor": 2
}