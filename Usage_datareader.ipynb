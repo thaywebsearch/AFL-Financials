{
    "cells": [
        {
            "cell_type": "code",
            "execution_count": null,
            "source": [
                "import pandas_datareader as pdr\r\n",
                "pdr.get_data_fred('GS10')"
            ],
            "outputs": [],
            "metadata": {}
        },
        {
            "cell_type": "code",
            "execution_count": 1,
            "source": [],
            "outputs": [
                {
                    "output_type": "stream",
                    "name": "stdout",
                    "text": [
                        "Date\n",
                        "1984-08-09    0.002273\n",
                        "1984-10-22    0.002667\n",
                        "1985-02-08    0.002667\n",
                        "1985-05-09    0.002000\n",
                        "1985-08-09    0.003000\n",
                        "                ...   \n",
                        "2020-05-19    0.280000\n",
                        "2020-08-18    0.280000\n",
                        "2020-11-17    0.280000\n",
                        "2021-02-16    0.330000\n",
                        "2021-05-18    0.330000\n",
                        "Name: Dividends, Length: 148, dtype: float64\n"
                    ]
                }
            ],
            "metadata": {}
        }
    ],
    "metadata": {
        "orig_nbformat": 4,
        "language_info": {
            "name": "python"
        }
    },
    "nbformat": 4,
    "nbformat_minor": 2
}