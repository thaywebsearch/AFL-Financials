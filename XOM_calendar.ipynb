{
    "cells": [
        {
            "cell_type": "code",
            "execution_count": 1,
            "source": [
                "import yfinance as yf\r\n",
                "\r\n",
                "xom = yf.Ticker('xom')\r\n",
                "\r\n",
                "print(xom.calendar)"
            ],
            "outputs": [
                {
                    "output_type": "stream",
                    "name": "stdout",
                    "text": [
                        "                                    0                    1\n",
                        "Earnings Date     2021-10-28 07:30:00  2021-11-01 11:30:00\n",
                        "Earnings Average                 0.99                 0.99\n",
                        "Earnings Low                     0.57                 0.57\n",
                        "Earnings High                    1.23                 1.23\n",
                        "Revenue Average           66808100000          66808100000\n",
                        "Revenue Low               60980100000          60980100000\n",
                        "Revenue High              85779100000          85779100000\n"
                    ]
                }
            ],
            "metadata": {}
        }
    ],
    "metadata": {
        "orig_nbformat": 4,
        "language_info": {
            "name": "python",
            "version": "3.9.1",
            "mimetype": "text/x-python",
            "codemirror_mode": {
                "name": "ipython",
                "version": 3
            },
            "pygments_lexer": "ipython3",
            "nbconvert_exporter": "python",
            "file_extension": ".py"
        },
        "kernelspec": {
            "name": "python3",
            "display_name": "Python 3.9.1 64-bit"
        },
        "interpreter": {
            "hash": "3f3e64df641f34e105f69b04d31a9fa120efec5259c1d25336167da3fc762860"
        }
    },
    "nbformat": 4,
    "nbformat_minor": 2
}