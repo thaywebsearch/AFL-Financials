{
    "cells": [
        {
            "cell_type": "code",
            "execution_count": 4,
            "source": [
                "from datetime import datetime\r\n",
                "import pandas_datareader.data as wb\r\n",
                "\r\n",
                "stocklist = ['AFL', 'PRU', 'MDT']\r\n",
                "\r\n",
                "start = datetime(2020,1,1)\r\n",
                "end = datetime(2020,1,8)\r\n",
                "\r\n",
                "p = wb.DataReader(stocklist, 'yahoo',start,end)"
            ],
            "outputs": [],
            "metadata": {}
        },
        {
            "cell_type": "code",
            "execution_count": null,
            "source": [
                "In [388]: p.axes\r\n",
                "Out[388]:\r\n",
                "[Index(['Open', 'High', 'Low', 'Close' 'Volume', 'Adj Close'], dtype='object'),\r\n",
                "DatetimeIndex(['2020-01-02', '2020-01-03','2020-01-07'], dtype='datetime64[ns]',name='Date', freq='D'),\r\n",
                "Index(['AFL', 'PRU', 'MDT'], dtype='object')]\r\n",
                "\r\n",
                "In [389]: p.keys()\r\n",
                "Out[389]: Index(['Open', 'High', 'Low', 'Close', 'Volume', 'Adj Close'], dtype='object')"
            ],
            "outputs": [],
            "metadata": {}
        }
    ],
    "metadata": {
        "orig_nbformat": 4,
        "language_info": {
            "name": "python",
            "version": "3.9.1",
            "mimetype": "text/x-python",
            "codemirror_mode": {
                "name": "ipython",
                "version": 3
            },
            "pygments_lexer": "ipython3",
            "nbconvert_exporter": "python",
            "file_extension": ".py"
        },
        "kernelspec": {
            "name": "python3",
            "display_name": "Python 3.9.1 64-bit"
        },
        "interpreter": {
            "hash": "3f3e64df641f34e105f69b04d31a9fa120efec5259c1d25336167da3fc762860"
        }
    },
    "nbformat": 4,
    "nbformat_minor": 2
}