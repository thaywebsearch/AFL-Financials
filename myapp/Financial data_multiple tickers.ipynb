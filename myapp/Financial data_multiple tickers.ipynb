{
    "cells": [
        {
            "cell_type": "code",
            "execution_count": 4,
            "source": [
                "from datetime import datetime\r\n",
                "import pandas_datareader.data as wb\r\n",
                "\r\n",
                "stocklist = ['AFL', 'PRU', 'MDT']\r\n",
                "\r\n",
                "start = datetime(2020,1,1)\r\n",
                "end = datetime(2020,1,8)\r\n",
                "\r\n",
                "p = wb.DataReader(stocklist, 'yahoo',start,end)"
            ],
            "outputs": [],
            "metadata": {}
        }
    ],
    "metadata": {
        "orig_nbformat": 4,
        "language_info": {
            "name": "python",
            "version": "3.9.1",
            "mimetype": "text/x-python",
            "codemirror_mode": {
                "name": "ipython",
                "version": 3
            },
            "pygments_lexer": "ipython3",
            "nbconvert_exporter": "python",
            "file_extension": ".py"
        },
        "kernelspec": {
            "name": "python3",
            "display_name": "Python 3.9.1 64-bit"
        },
        "interpreter": {
            "hash": "3f3e64df641f34e105f69b04d31a9fa120efec5259c1d25336167da3fc762860"
        }
    },
    "nbformat": 4,
    "nbformat_minor": 2
}