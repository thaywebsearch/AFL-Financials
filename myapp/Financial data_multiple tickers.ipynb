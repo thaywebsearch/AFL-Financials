{
    "cells": [
        {
            "cell_type": "code",
            "execution_count": null,
            "source": [
                "from datetime import datetime\r\n",
                "import pandas_datareader.data as wb\r\n",
                "\r\n",
                "stocklist = ['AFL', 'PRU', 'MDT']\r\n",
                "\r\n",
                "start = datetime(2020,1,1)\r\n",
                "end = datetime(2020,12,31)\r\n",
                "\r\n",
                "p = wb.DataReader(stocklist, 'yahoo',start,end)"
            ],
            "outputs": [],
            "metadata": {}
        }
    ],
    "metadata": {
        "orig_nbformat": 4,
        "language_info": {
            "name": "python"
        }
    },
    "nbformat": 4,
    "nbformat_minor": 2
}