{
    "cells": [
        {
            "cell_type": "code",
            "execution_count": null,
            "source": [
                "import yfinance as yf\r\n",
                "import streamlit as st\r\n",
                "from yfinance import ticker\r\n",
                "\r\n",
                "st.write(\"\"\"\r\n",
                "\r\n",
                "shown are the stock closing price and volume of Aflac!\"\"\")\r\n",
                "\r\n",
                "tickerSymbol = 'AFL'\r\n",
                "\r\n",
                "tickerData = yf.Ticker(tickerSymbol)\r\n",
                "\r\n",
                "tickerDf = tickerData.history(period='1y', start='2020-1-1', end='2020-12-31')\r\n",
                "\r\n",
                "st.line_chart(tickerDf.close)\r\n",
                "st.line_chart(tickerDf.volume)"
            ],
            "outputs": [],
            "metadata": {}
        },
        {
            "cell_type": "code",
            "execution_count": null,
            "source": [],
            "outputs": [],
            "metadata": {}
        }
    ],
    "metadata": {
        "orig_nbformat": 4,
        "language_info": {
            "name": "python"
        }
    },
    "nbformat": 4,
    "nbformat_minor": 2
}