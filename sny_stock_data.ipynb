{
 "cells": [
  {
   "cell_type": "code",
   "execution_count": 1,
   "metadata": {},
   "outputs": [
    {
     "name": "stdout",
     "output_type": "stream",
     "text": [
      "{'zip': '75008', 'sector': 'Healthcare', 'fullTimeEmployees': 99412, 'longBusinessSummary': 'Sanofi, a healthcare company, engages in the research, development, manufacture, and marketing of therapeutic solutions in the United States, Europe, and internationally. It operates through three segments: Pharmaceuticals, Vaccines, and Consumer Healthcare. The company provides specialty care products, including human monoclonal antibodies; products for multiple sclerosis, neurology, other inflammatory diseases, immunology, rare diseases, oncology, and rare blood disorders; medicines for diabetes; and cardiovascular and established prescription products. It also supplies poliomyelitis, pertussis, and hib pediatric vaccines; and influenza, adult booster, meningitis, and travel and endemic vaccines. In addition, the company offers allergy, cough and cold, pain, digestive, and nutritional products; and other products, such as daily body lotions, anti-itch products, moisturizing and soothing lotions, and body and foot creams, as well as powders for eczema. It also has various pharmaceutical products and vaccines in development stage. Sanofi has collaboration agreement with GlaxoSmithKline to develop a recombinant Covid-19 vaccine; and a research collaboration with Stanford University School of Medicine to advance the understanding of immunology and inflammation through open scientific exchange. It also has a collaboration with TrialSpark Inc. to execute clinical research studies in the areas of chronic obstructive pulmonary disease. The company was formerly known as Sanofi-Aventis and changed its name to Sanofi in May 2011. Sanofi was incorporated in 1994 and is headquartered in Paris, France.', 'city': 'Paris', 'phone': '33 1 53 77 40 00', 'country': 'France', 'companyOfficers': [], 'website': 'http://www.sanofi.com', 'maxAge': 1, 'address1': '54, Rue La BoEtie', 'fax': '33 1 53 77 43 03', 'industry': 'Drug Manufacturers—General', 'ebitdaMargins': 0.29281, 'profitMargins': 0.16038, 'grossMargins': 0.68402, 'operatingCashflow': None, 'revenueGrowth': 0.096, 'operatingMargins': 0.22608, 'ebitda': 11271999488, 'targetLowPrice': 58, 'recommendationKey': 'strong_buy', 'grossProfits': 25265000000, 'freeCashflow': None, 'targetMedianPrice': 65.5, 'currentPrice': 48.3, 'earningsGrowth': 0.188, 'currentRatio': None, 'returnOnAssets': None, 'numberOfAnalystOpinions': 4, 'targetMeanPrice': 64.63, 'debtToEquity': 34.166, 'returnOnEquity': None, 'targetHighPrice': 69.5, 'totalCash': 9722000384, 'totalDebt': 21649000448, 'totalRevenue': 38496002048, 'totalCashPerShare': 3.881, 'financialCurrency': 'EUR', 'revenuePerShare': 15.366, 'quickRatio': None, 'recommendationMean': 1.2, 'exchange': 'NMS', 'shortName': 'Sanofi', 'longName': 'Sanofi', 'exchangeTimezoneName': 'America/New_York', 'exchangeTimezoneShortName': 'EST', 'isEsgPopulated': False, 'gmtOffSetMilliseconds': '-18000000', 'quoteType': 'EQUITY', 'symbol': 'SNY', 'messageBoardId': 'finmb_687130', 'market': 'us_market', 'annualHoldingsTurnover': None, 'enterpriseToRevenue': 3.456, 'beta3Year': None, 'enterpriseToEbitda': 11.803, '52WeekChange': -0.03784859, 'morningStarRiskRating': None, 'forwardEps': 4.38, 'revenueQuarterlyGrowth': None, 'sharesOutstanding': 2510439936, 'fundInceptionDate': None, 'annualReportExpenseRatio': None, 'totalAssets': None, 'bookValue': 25.2435, 'sharesShort': 5043866, 'sharesPercentSharesOut': 0.002, 'fundFamily': None, 'lastFiscalYearEnd': 1609372800, 'heldPercentInstitutions': 0.095699996, 'netIncomeToCommon': 6174000128, 'trailingEps': 2.774, 'lastDividendValue': 1.906, 'SandP52WeekChange': 0.26866078, 'priceToBook': 1.9133638, 'heldPercentInsiders': 0, 'nextFiscalYearEnd': 1672444800, 'yield': None, 'mostRecentQuarter': 1632960000, 'shortRatio': 3.16, 'sharesShortPreviousMonthDate': 1634256000, 'floatShares': 2223827176, 'beta': 0.432768, 'enterpriseValue': 133048958976, 'priceHint': 2, 'threeYearAverageReturn': None, 'lastSplitDate': None, 'lastSplitFactor': None, 'legalType': None, 'lastDividendDate': 1620000000, 'morningStarOverallRating': None, 'earningsQuarterlyGrowth': 0.187, 'priceToSalesTrailing12Months': 3.1497881, 'dateShortInterest': 1636934400, 'pegRatio': 1.24, 'ytdReturn': None, 'forwardPE': 11.027397, 'lastCapGain': None, 'shortPercentOfFloat': None, 'sharesShortPriorMonth': 6929364, 'impliedSharesOutstanding': None, 'category': None, 'fiveYearAverageReturn': None, 'previousClose': 49.13, 'regularMarketOpen': 48.66, 'twoHundredDayAverage': 50.5478, 'trailingAnnualDividendYield': 0.06513332, 'payoutRatio': 0.6913, 'volume24Hr': None, 'regularMarketDayHigh': 48.73, 'navPrice': None, 'averageDailyVolume10Day': 1531400, 'regularMarketPreviousClose': 49.13, 'fiftyDayAverage': 49.505, 'trailingAnnualDividendRate': 3.2, 'open': 48.66, 'toCurrency': None, 'averageVolume10days': 1531400, 'expireDate': None, 'algorithm': None, 'dividendRate': 1.93, 'exDividendDate': 1620000000, 'circulatingSupply': None, 'startDate': None, 'regularMarketDayLow': 48.04, 'currency': 'USD', 'trailingPE': 17.41168, 'regularMarketVolume': 1479194, 'lastMarket': None, 'maxSupply': None, 'openInterest': None, 'marketCap': 121254248448, 'volumeAllCurrencies': None, 'strikePrice': None, 'averageVolume': 1820573, 'dayLow': 48.04, 'ask': 0, 'askSize': 800, 'volume': 1479194, 'fiftyTwoWeekHigh': 54.26, 'fromCurrency': None, 'fiveYearAvgDividendYield': 3.83, 'fiftyTwoWeekLow': 45.17, 'bid': 0, 'tradeable': False, 'dividendYield': 0.0399, 'bidSize': 1300, 'dayHigh': 48.73, 'regularMarketPrice': 48.3, 'preMarketPrice': 48.15, 'logo_url': 'https://logo.clearbit.com/sanofi.com'}\n"
     ]
    }
   ],
   "source": [
    "import yfinance as yf\n",
    "\n",
    "sny = yf.Ticker('sny')\n",
    "\n",
    "print(sny.info)"
   ]
  }
 ],
 "metadata": {
  "interpreter": {
   "hash": "b89b5cfaba6639976dc87ff2fec6d58faec662063367e2c229c520fe71072417"
  },
  "kernelspec": {
   "display_name": "Python 3.10.0 64-bit",
   "language": "python",
   "name": "python3"
  },
  "language_info": {
   "codemirror_mode": {
    "name": "ipython",
    "version": 3
   },
   "file_extension": ".py",
   "mimetype": "text/x-python",
   "name": "python",
   "nbconvert_exporter": "python",
   "pygments_lexer": "ipython3",
   "version": "3.10.0"
  },
  "orig_nbformat": 4
 },
 "nbformat": 4,
 "nbformat_minor": 2
}
